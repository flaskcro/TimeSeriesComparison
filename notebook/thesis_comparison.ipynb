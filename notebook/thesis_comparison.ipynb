{
 "cells": [
  {
   "cell_type": "code",
   "execution_count": 14,
   "metadata": {},
   "outputs": [],
   "source": [
    "import seaborn as sns\n",
    "import matplotlib.pyplot as plt\n",
    "import pandas as pd"
   ]
  },
  {
   "cell_type": "code",
   "execution_count": 15,
   "metadata": {},
   "outputs": [],
   "source": [
    "arima_result = pd.read_csv('../output/arima_result.csv').iloc[:,1:]"
   ]
  },
  {
   "cell_type": "code",
   "execution_count": 16,
   "metadata": {},
   "outputs": [
    {
     "data": {
      "text/html": [
       "<div>\n",
       "<style scoped>\n",
       "    .dataframe tbody tr th:only-of-type {\n",
       "        vertical-align: middle;\n",
       "    }\n",
       "\n",
       "    .dataframe tbody tr th {\n",
       "        vertical-align: top;\n",
       "    }\n",
       "\n",
       "    .dataframe thead th {\n",
       "        text-align: right;\n",
       "    }\n",
       "</style>\n",
       "<table border=\"1\" class=\"dataframe\">\n",
       "  <thead>\n",
       "    <tr style=\"text-align: right;\">\n",
       "      <th></th>\n",
       "      <th>Store</th>\n",
       "      <th>rmspe_x</th>\n",
       "      <th>smape_x</th>\n",
       "      <th>rmspe_y</th>\n",
       "      <th>smape_y</th>\n",
       "    </tr>\n",
       "    <tr>\n",
       "      <th>StoreType</th>\n",
       "      <th></th>\n",
       "      <th></th>\n",
       "      <th></th>\n",
       "      <th></th>\n",
       "      <th></th>\n",
       "    </tr>\n",
       "  </thead>\n",
       "  <tbody>\n",
       "    <tr>\n",
       "      <th>a</th>\n",
       "      <td>617.333333</td>\n",
       "      <td>0.300818</td>\n",
       "      <td>25.695986</td>\n",
       "      <td>0.071904</td>\n",
       "      <td>5.838239</td>\n",
       "    </tr>\n",
       "    <tr>\n",
       "      <th>b</th>\n",
       "      <td>528.600000</td>\n",
       "      <td>0.348323</td>\n",
       "      <td>24.082024</td>\n",
       "      <td>0.136966</td>\n",
       "      <td>10.775421</td>\n",
       "    </tr>\n",
       "    <tr>\n",
       "      <th>c</th>\n",
       "      <td>605.133333</td>\n",
       "      <td>0.270080</td>\n",
       "      <td>26.078050</td>\n",
       "      <td>0.068653</td>\n",
       "      <td>5.673626</td>\n",
       "    </tr>\n",
       "    <tr>\n",
       "      <th>d</th>\n",
       "      <td>552.633333</td>\n",
       "      <td>0.270621</td>\n",
       "      <td>26.510382</td>\n",
       "      <td>0.064497</td>\n",
       "      <td>5.399936</td>\n",
       "    </tr>\n",
       "  </tbody>\n",
       "</table>\n",
       "</div>"
      ],
      "text/plain": [
       "                Store   rmspe_x    smape_x   rmspe_y    smape_y\n",
       "StoreType                                                      \n",
       "a          617.333333  0.300818  25.695986  0.071904   5.838239\n",
       "b          528.600000  0.348323  24.082024  0.136966  10.775421\n",
       "c          605.133333  0.270080  26.078050  0.068653   5.673626\n",
       "d          552.633333  0.270621  26.510382  0.064497   5.399936"
      ]
     },
     "execution_count": 16,
     "metadata": {},
     "output_type": "execute_result"
    }
   ],
   "source": [
    "arima_result.groupby('StoreType').mean()"
   ]
  },
  {
   "cell_type": "code",
   "execution_count": 17,
   "metadata": {},
   "outputs": [
    {
     "name": "stderr",
     "output_type": "stream",
     "text": [
      "C:\\Users\\daeky\\AppData\\Local\\Temp\\ipykernel_23916\\3861763651.py:1: FutureWarning: The default value of numeric_only in DataFrame.mean is deprecated. In a future version, it will default to False. In addition, specifying 'numeric_only=None' is deprecated. Select only valid columns or specify the value of numeric_only to silence this warning.\n",
      "  arima_result.mean()\n"
     ]
    },
    {
     "data": {
      "text/plain": [
       "Store      585.390000\n",
       "rmspe_x      0.287288\n",
       "smape_x     25.893528\n",
       "rmspe_y      0.075213\n",
       "smape_y      6.151082\n",
       "dtype: float64"
      ]
     },
     "execution_count": 17,
     "metadata": {},
     "output_type": "execute_result"
    }
   ],
   "source": [
    "arima_result.mean()"
   ]
  },
  {
   "cell_type": "code",
   "execution_count": 18,
   "metadata": {},
   "outputs": [],
   "source": [
    "prophet_result = pd.read_csv('../output/prophet_result.csv').iloc[:,1:]"
   ]
  },
  {
   "cell_type": "markdown",
   "metadata": {},
   "source": []
  },
  {
   "cell_type": "code",
   "execution_count": 19,
   "metadata": {},
   "outputs": [
    {
     "data": {
      "text/html": [
       "<div>\n",
       "<style scoped>\n",
       "    .dataframe tbody tr th:only-of-type {\n",
       "        vertical-align: middle;\n",
       "    }\n",
       "\n",
       "    .dataframe tbody tr th {\n",
       "        vertical-align: top;\n",
       "    }\n",
       "\n",
       "    .dataframe thead th {\n",
       "        text-align: right;\n",
       "    }\n",
       "</style>\n",
       "<table border=\"1\" class=\"dataframe\">\n",
       "  <thead>\n",
       "    <tr style=\"text-align: right;\">\n",
       "      <th></th>\n",
       "      <th>Store</th>\n",
       "      <th>rmspe_x</th>\n",
       "      <th>smape_x</th>\n",
       "      <th>rmspe_y</th>\n",
       "      <th>smape_y</th>\n",
       "    </tr>\n",
       "    <tr>\n",
       "      <th>StoreType</th>\n",
       "      <th></th>\n",
       "      <th></th>\n",
       "      <th></th>\n",
       "      <th></th>\n",
       "      <th></th>\n",
       "    </tr>\n",
       "  </thead>\n",
       "  <tbody>\n",
       "    <tr>\n",
       "      <th>a</th>\n",
       "      <td>617.333333</td>\n",
       "      <td>0.194242</td>\n",
       "      <td>15.890097</td>\n",
       "      <td>0.060479</td>\n",
       "      <td>4.802667</td>\n",
       "    </tr>\n",
       "    <tr>\n",
       "      <th>b</th>\n",
       "      <td>528.600000</td>\n",
       "      <td>0.205450</td>\n",
       "      <td>15.950073</td>\n",
       "      <td>0.101591</td>\n",
       "      <td>7.556422</td>\n",
       "    </tr>\n",
       "    <tr>\n",
       "      <th>c</th>\n",
       "      <td>605.133333</td>\n",
       "      <td>0.208299</td>\n",
       "      <td>17.809940</td>\n",
       "      <td>0.059190</td>\n",
       "      <td>4.766477</td>\n",
       "    </tr>\n",
       "    <tr>\n",
       "      <th>d</th>\n",
       "      <td>552.633333</td>\n",
       "      <td>0.210246</td>\n",
       "      <td>17.781989</td>\n",
       "      <td>0.054178</td>\n",
       "      <td>4.396319</td>\n",
       "    </tr>\n",
       "  </tbody>\n",
       "</table>\n",
       "</div>"
      ],
      "text/plain": [
       "                Store   rmspe_x    smape_x   rmspe_y   smape_y\n",
       "StoreType                                                     \n",
       "a          617.333333  0.194242  15.890097  0.060479  4.802667\n",
       "b          528.600000  0.205450  15.950073  0.101591  7.556422\n",
       "c          605.133333  0.208299  17.809940  0.059190  4.766477\n",
       "d          552.633333  0.210246  17.781989  0.054178  4.396319"
      ]
     },
     "execution_count": 19,
     "metadata": {},
     "output_type": "execute_result"
    }
   ],
   "source": [
    "prophet_result.groupby('StoreType').mean()"
   ]
  },
  {
   "cell_type": "code",
   "execution_count": 20,
   "metadata": {},
   "outputs": [
    {
     "name": "stderr",
     "output_type": "stream",
     "text": [
      "C:\\Users\\daeky\\AppData\\Local\\Temp\\ipykernel_23916\\2078944635.py:1: FutureWarning: The default value of numeric_only in DataFrame.mean is deprecated. In a future version, it will default to False. In addition, specifying 'numeric_only=None' is deprecated. Select only valid columns or specify the value of numeric_only to silence this warning.\n",
      "  prophet_result.mean()\n"
     ]
    },
    {
     "data": {
      "text/plain": [
       "Store      585.390000\n",
       "rmspe_x      0.204381\n",
       "smape_x     17.039615\n",
       "rmspe_y      0.062313\n",
       "smape_y      4.945281\n",
       "dtype: float64"
      ]
     },
     "execution_count": 20,
     "metadata": {},
     "output_type": "execute_result"
    }
   ],
   "source": [
    "prophet_result.mean()"
   ]
  },
  {
   "cell_type": "code",
   "execution_count": 21,
   "metadata": {},
   "outputs": [],
   "source": [
    "rnn_result = pd.read_csv('../output/rnn_result.csv').iloc[:,1:]"
   ]
  },
  {
   "cell_type": "code",
   "execution_count": 22,
   "metadata": {},
   "outputs": [
    {
     "data": {
      "text/html": [
       "<div>\n",
       "<style scoped>\n",
       "    .dataframe tbody tr th:only-of-type {\n",
       "        vertical-align: middle;\n",
       "    }\n",
       "\n",
       "    .dataframe tbody tr th {\n",
       "        vertical-align: top;\n",
       "    }\n",
       "\n",
       "    .dataframe thead th {\n",
       "        text-align: right;\n",
       "    }\n",
       "</style>\n",
       "<table border=\"1\" class=\"dataframe\">\n",
       "  <thead>\n",
       "    <tr style=\"text-align: right;\">\n",
       "      <th></th>\n",
       "      <th>Store</th>\n",
       "      <th>rmspe_x</th>\n",
       "      <th>smape_x</th>\n",
       "      <th>rmspe_y</th>\n",
       "      <th>smape_y</th>\n",
       "      <th>rmspe_x.1</th>\n",
       "      <th>smape_x.1</th>\n",
       "      <th>rmspe_y.1</th>\n",
       "      <th>smape_y.1</th>\n",
       "    </tr>\n",
       "    <tr>\n",
       "      <th>StoreType</th>\n",
       "      <th></th>\n",
       "      <th></th>\n",
       "      <th></th>\n",
       "      <th></th>\n",
       "      <th></th>\n",
       "      <th></th>\n",
       "      <th></th>\n",
       "      <th></th>\n",
       "      <th></th>\n",
       "    </tr>\n",
       "  </thead>\n",
       "  <tbody>\n",
       "    <tr>\n",
       "      <th>a</th>\n",
       "      <td>617.333333</td>\n",
       "      <td>0.210304</td>\n",
       "      <td>18.011788</td>\n",
       "      <td>0.085123</td>\n",
       "      <td>7.603723</td>\n",
       "      <td>0.101497</td>\n",
       "      <td>8.250443</td>\n",
       "      <td>0.186412</td>\n",
       "      <td>14.957513</td>\n",
       "    </tr>\n",
       "    <tr>\n",
       "      <th>b</th>\n",
       "      <td>528.600000</td>\n",
       "      <td>0.190981</td>\n",
       "      <td>14.303545</td>\n",
       "      <td>0.144847</td>\n",
       "      <td>13.290456</td>\n",
       "      <td>0.275378</td>\n",
       "      <td>21.288224</td>\n",
       "      <td>0.340942</td>\n",
       "      <td>25.112130</td>\n",
       "    </tr>\n",
       "    <tr>\n",
       "      <th>c</th>\n",
       "      <td>605.133333</td>\n",
       "      <td>0.208759</td>\n",
       "      <td>18.768218</td>\n",
       "      <td>0.092024</td>\n",
       "      <td>8.124409</td>\n",
       "      <td>0.107316</td>\n",
       "      <td>8.869393</td>\n",
       "      <td>0.190505</td>\n",
       "      <td>16.302750</td>\n",
       "    </tr>\n",
       "    <tr>\n",
       "      <th>d</th>\n",
       "      <td>552.633333</td>\n",
       "      <td>0.198581</td>\n",
       "      <td>18.583121</td>\n",
       "      <td>0.080552</td>\n",
       "      <td>7.416851</td>\n",
       "      <td>0.088299</td>\n",
       "      <td>7.239860</td>\n",
       "      <td>0.186544</td>\n",
       "      <td>15.546860</td>\n",
       "    </tr>\n",
       "  </tbody>\n",
       "</table>\n",
       "</div>"
      ],
      "text/plain": [
       "                Store   rmspe_x    smape_x   rmspe_y    smape_y  rmspe_x.1  \\\n",
       "StoreType                                                                    \n",
       "a          617.333333  0.210304  18.011788  0.085123   7.603723   0.101497   \n",
       "b          528.600000  0.190981  14.303545  0.144847  13.290456   0.275378   \n",
       "c          605.133333  0.208759  18.768218  0.092024   8.124409   0.107316   \n",
       "d          552.633333  0.198581  18.583121  0.080552   7.416851   0.088299   \n",
       "\n",
       "           smape_x.1  rmspe_y.1  smape_y.1  \n",
       "StoreType                                   \n",
       "a           8.250443   0.186412  14.957513  \n",
       "b          21.288224   0.340942  25.112130  \n",
       "c           8.869393   0.190505  16.302750  \n",
       "d           7.239860   0.186544  15.546860  "
      ]
     },
     "execution_count": 22,
     "metadata": {},
     "output_type": "execute_result"
    }
   ],
   "source": [
    "rnn_result.groupby('StoreType').mean()"
   ]
  },
  {
   "cell_type": "code",
   "execution_count": 23,
   "metadata": {},
   "outputs": [
    {
     "name": "stderr",
     "output_type": "stream",
     "text": [
      "C:\\Users\\daeky\\AppData\\Local\\Temp\\ipykernel_23916\\3415198509.py:1: FutureWarning: The default value of numeric_only in DataFrame.mean is deprecated. In a future version, it will default to False. In addition, specifying 'numeric_only=None' is deprecated. Select only valid columns or specify the value of numeric_only to silence this warning.\n",
      "  rnn_result.mean()\n"
     ]
    },
    {
     "data": {
      "text/plain": [
       "Store        585.390000\n",
       "rmspe_x        0.204391\n",
       "smape_x       18.039293\n",
       "rmspe_y        0.091794\n",
       "smape_y        8.272540\n",
       "rmspe_x.1      0.116671\n",
       "smape_x.1      9.436731\n",
       "rmspe_y.1      0.203133\n",
       "smape_y.1     16.553350\n",
       "dtype: float64"
      ]
     },
     "execution_count": 23,
     "metadata": {},
     "output_type": "execute_result"
    }
   ],
   "source": [
    "rnn_result.mean()"
   ]
  },
  {
   "cell_type": "code",
   "execution_count": 24,
   "metadata": {},
   "outputs": [],
   "source": [
    "tft_result = pd.read_csv('../output/tft_result.csv').iloc[:,1:]"
   ]
  },
  {
   "cell_type": "code",
   "execution_count": 25,
   "metadata": {},
   "outputs": [
    {
     "data": {
      "text/html": [
       "<div>\n",
       "<style scoped>\n",
       "    .dataframe tbody tr th:only-of-type {\n",
       "        vertical-align: middle;\n",
       "    }\n",
       "\n",
       "    .dataframe tbody tr th {\n",
       "        vertical-align: top;\n",
       "    }\n",
       "\n",
       "    .dataframe thead th {\n",
       "        text-align: right;\n",
       "    }\n",
       "</style>\n",
       "<table border=\"1\" class=\"dataframe\">\n",
       "  <thead>\n",
       "    <tr style=\"text-align: right;\">\n",
       "      <th></th>\n",
       "      <th>Store</th>\n",
       "      <th>rmspe</th>\n",
       "      <th>smape</th>\n",
       "    </tr>\n",
       "    <tr>\n",
       "      <th>StoreType</th>\n",
       "      <th></th>\n",
       "      <th></th>\n",
       "      <th></th>\n",
       "    </tr>\n",
       "  </thead>\n",
       "  <tbody>\n",
       "    <tr>\n",
       "      <th>a</th>\n",
       "      <td>617.333333</td>\n",
       "      <td>0.101963</td>\n",
       "      <td>7.931981</td>\n",
       "    </tr>\n",
       "    <tr>\n",
       "      <th>b</th>\n",
       "      <td>528.600000</td>\n",
       "      <td>0.189533</td>\n",
       "      <td>13.333993</td>\n",
       "    </tr>\n",
       "    <tr>\n",
       "      <th>c</th>\n",
       "      <td>605.133333</td>\n",
       "      <td>0.117862</td>\n",
       "      <td>8.723430</td>\n",
       "    </tr>\n",
       "    <tr>\n",
       "      <th>d</th>\n",
       "      <td>552.633333</td>\n",
       "      <td>0.095285</td>\n",
       "      <td>7.585528</td>\n",
       "    </tr>\n",
       "  </tbody>\n",
       "</table>\n",
       "</div>"
      ],
      "text/plain": [
       "                Store     rmspe      smape\n",
       "StoreType                                 \n",
       "a          617.333333  0.101963   7.931981\n",
       "b          528.600000  0.189533  13.333993\n",
       "c          605.133333  0.117862   8.723430\n",
       "d          552.633333  0.095285   7.585528"
      ]
     },
     "execution_count": 25,
     "metadata": {},
     "output_type": "execute_result"
    }
   ],
   "source": [
    "tft_result.groupby('StoreType').mean()"
   ]
  },
  {
   "cell_type": "code",
   "execution_count": 26,
   "metadata": {},
   "outputs": [
    {
     "name": "stderr",
     "output_type": "stream",
     "text": [
      "C:\\Users\\daeky\\AppData\\Local\\Temp\\ipykernel_23916\\895505731.py:1: FutureWarning: The default value of numeric_only in DataFrame.mean is deprecated. In a future version, it will default to False. In addition, specifying 'numeric_only=None' is deprecated. Select only valid columns or specify the value of numeric_only to silence this warning.\n",
      "  tft_result.mean()\n"
     ]
    },
    {
     "data": {
      "text/plain": [
       "Store    585.390000\n",
       "rmspe      0.113486\n",
       "smape      8.605681\n",
       "dtype: float64"
      ]
     },
     "execution_count": 26,
     "metadata": {},
     "output_type": "execute_result"
    }
   ],
   "source": [
    "tft_result.mean()"
   ]
  },
  {
   "cell_type": "code",
   "execution_count": 27,
   "metadata": {},
   "outputs": [],
   "source": [
    "nbeats_result = pd.read_csv('../output/nbeats_result.csv').iloc[:,1:]"
   ]
  },
  {
   "cell_type": "code",
   "execution_count": 28,
   "metadata": {},
   "outputs": [
    {
     "data": {
      "text/html": [
       "<div>\n",
       "<style scoped>\n",
       "    .dataframe tbody tr th:only-of-type {\n",
       "        vertical-align: middle;\n",
       "    }\n",
       "\n",
       "    .dataframe tbody tr th {\n",
       "        vertical-align: top;\n",
       "    }\n",
       "\n",
       "    .dataframe thead th {\n",
       "        text-align: right;\n",
       "    }\n",
       "</style>\n",
       "<table border=\"1\" class=\"dataframe\">\n",
       "  <thead>\n",
       "    <tr style=\"text-align: right;\">\n",
       "      <th></th>\n",
       "      <th>Store</th>\n",
       "      <th>rmspe_x</th>\n",
       "      <th>smape_x</th>\n",
       "      <th>rmspe_y</th>\n",
       "      <th>smape_y</th>\n",
       "    </tr>\n",
       "    <tr>\n",
       "      <th>StoreType</th>\n",
       "      <th></th>\n",
       "      <th></th>\n",
       "      <th></th>\n",
       "      <th></th>\n",
       "      <th></th>\n",
       "    </tr>\n",
       "  </thead>\n",
       "  <tbody>\n",
       "    <tr>\n",
       "      <th>a</th>\n",
       "      <td>617.333333</td>\n",
       "      <td>0.213521</td>\n",
       "      <td>16.104201</td>\n",
       "      <td>0.208027</td>\n",
       "      <td>16.838388</td>\n",
       "    </tr>\n",
       "    <tr>\n",
       "      <th>b</th>\n",
       "      <td>528.600000</td>\n",
       "      <td>0.247181</td>\n",
       "      <td>18.538222</td>\n",
       "      <td>0.274584</td>\n",
       "      <td>20.796762</td>\n",
       "    </tr>\n",
       "    <tr>\n",
       "      <th>c</th>\n",
       "      <td>605.133333</td>\n",
       "      <td>0.256881</td>\n",
       "      <td>21.890621</td>\n",
       "      <td>0.231566</td>\n",
       "      <td>20.981952</td>\n",
       "    </tr>\n",
       "    <tr>\n",
       "      <th>d</th>\n",
       "      <td>552.633333</td>\n",
       "      <td>0.214263</td>\n",
       "      <td>17.053565</td>\n",
       "      <td>0.228243</td>\n",
       "      <td>18.748780</td>\n",
       "    </tr>\n",
       "  </tbody>\n",
       "</table>\n",
       "</div>"
      ],
      "text/plain": [
       "                Store   rmspe_x    smape_x   rmspe_y    smape_y\n",
       "StoreType                                                      \n",
       "a          617.333333  0.213521  16.104201  0.208027  16.838388\n",
       "b          528.600000  0.247181  18.538222  0.274584  20.796762\n",
       "c          605.133333  0.256881  21.890621  0.231566  20.981952\n",
       "d          552.633333  0.214263  17.053565  0.228243  18.748780"
      ]
     },
     "execution_count": 28,
     "metadata": {},
     "output_type": "execute_result"
    }
   ],
   "source": [
    "nbeats_result.groupby('StoreType').mean()"
   ]
  },
  {
   "cell_type": "code",
   "execution_count": 29,
   "metadata": {},
   "outputs": [
    {
     "name": "stderr",
     "output_type": "stream",
     "text": [
      "C:\\Users\\daeky\\AppData\\Local\\Temp\\ipykernel_23916\\2873481486.py:1: FutureWarning: The default value of numeric_only in DataFrame.mean is deprecated. In a future version, it will default to False. In addition, specifying 'numeric_only=None' is deprecated. Select only valid columns or specify the value of numeric_only to silence this warning.\n",
      "  nbeats_result.mean()\n"
     ]
    },
    {
     "data": {
      "text/plain": [
       "Store      585.390000\n",
       "rmspe_x      0.230118\n",
       "smape_x     18.368338\n",
       "rmspe_y      0.227809\n",
       "smape_y     19.050412\n",
       "dtype: float64"
      ]
     },
     "execution_count": 29,
     "metadata": {},
     "output_type": "execute_result"
    }
   ],
   "source": [
    "nbeats_result.mean()"
   ]
  },
  {
   "cell_type": "code",
   "execution_count": null,
   "metadata": {},
   "outputs": [],
   "source": []
  }
 ],
 "metadata": {
  "kernelspec": {
   "display_name": "darts",
   "language": "python",
   "name": "python3"
  },
  "language_info": {
   "codemirror_mode": {
    "name": "ipython",
    "version": 3
   },
   "file_extension": ".py",
   "mimetype": "text/x-python",
   "name": "python",
   "nbconvert_exporter": "python",
   "pygments_lexer": "ipython3",
   "version": "3.8.1"
  },
  "orig_nbformat": 4,
  "vscode": {
   "interpreter": {
    "hash": "5e4eb80f0a2947b2b4d080aa13c6d15fa0bc013de0be3eb24296c75a14756372"
   }
  }
 },
 "nbformat": 4,
 "nbformat_minor": 2
}
