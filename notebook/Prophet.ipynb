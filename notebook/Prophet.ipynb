{
 "cells": [
  {
   "cell_type": "code",
   "execution_count": null,
   "metadata": {
    "collapsed": false
   },
   "outputs": [],
   "source": [
    "import numpy as np\n",
    "import pandas as pd\n",
    "import os\n",
    "import matplotlib.pyplot as plt\n",
    "import seaborn as sns\n",
    "from statsmodels.tsa.deterministic import CalendarFourier, DeterministicProcess\n",
    "import copy\n",
    "\n",
    "from sklearn.model_selection import train_test_split\n",
    "from sklearn.preprocessing import RobustScaler\n",
    "from sklearn.linear_model import LinearRegression, Lasso, Ridge, ElasticNet\n",
    "from sklearn import metrics\n",
    "\n",
    "from sklearn.model_selection import train_test_split\n",
    "from sklearn.preprocessing import RobustScaler\n",
    "\n",
    "from tensorflow import keras\n",
    "import tensorflow as tf\n",
    "from tensorflow.keras.models import Sequential\n",
    "from tensorflow.keras.layers import Dense, Dropout, BatchNormalization\n",
    "\n",
    "from tensorflow.keras.callbacks import ReduceLROnPlateau"
   ]
  },
  {
   "cell_type": "code",
   "execution_count": null,
   "metadata": {
    "collapsed": false
   },
   "outputs": [],
   "source": [
    "store_sales = pd.read_csv(\n",
    "    '../input/train.csv',\n",
    "    usecols=['store_nbr', 'family', 'date', 'sales'],\n",
    "    dtype={\n",
    "        'store_nbr': 'category',\n",
    "        'family': 'category',\n",
    "        'sales': 'float32',\n",
    "    },\n",
    "    parse_dates=['date'],\n",
    "    infer_datetime_format=True,\n",
    ")\n",
    "\n",
    "store_sales['date'] = store_sales.date.dt.to_period('D')\n",
    "store_sales = store_sales.set_index(['store_nbr', 'family', 'date']).sort_index()\n",
    "\n",
    "y = store_sales.unstack(['store_nbr', 'family']).loc[\"2017\"]\n",
    "\n",
    "fourier = CalendarFourier(freq='M', order=3)\n",
    "\n",
    "dp = DeterministicProcess(\n",
    "    index=y.index,\n",
    "    constant=False,\n",
    "    order=5,\n",
    "    seasonal=True,\n",
    "    additional_terms=[fourier],\n",
    "    drop=True,\n",
    ")\n",
    "\n",
    "X = dp.in_sample()\n",
    "X['NewYear'] = (X.index.dayofyear == 1)"
   ]
  },
  {
   "cell_type": "code",
   "execution_count": null,
   "metadata": {
    "collapsed": false
   },
   "outputs": [],
   "source": [
    "X_train, X_val, y_train, y_val = train_test_split(X, y,test_size=0.001, random_state=13)\n",
    "transformerL = RobustScaler().fit(X_train)\n",
    "\n",
    "X_val = transformerL.transform(X_val)\n",
    "X_train = transformerL.transform(X_train)"
   ]
  },
  {
   "cell_type": "code",
   "execution_count": null,
   "metadata": {
    "collapsed": false
   },
   "outputs": [],
   "source": [
    "modelL = Lasso(alpha=1, fit_intercept = True, max_iter=7000).fit(X_train, y_train)\n",
    "#print(model1.score(X_train, y_train))\n",
    "y_predL = modelL.predict(X_val)\n",
    "#print(model1.score(X_val, y_val))\n",
    "print('Mean Absolute Error:', metrics.mean_absolute_error(y_val, y_predL))\n",
    "print('Root Mean Squared Error:', np.sqrt(metrics.mean_squared_error(y_val, y_predL)))\n",
    "\n",
    "y_predL[y_predL < 0] = 0\n",
    "\n",
    "print(metrics.mean_absolute_error(y_val, y_predL/1.03))\n",
    "\n",
    "print('======')\n",
    "\n",
    "modelR = Ridge(alpha=0.4, fit_intercept = True, max_iter=7000).fit(X_train, y_train)\n",
    "#print(model1.score(X_train, y_train))\n",
    "y_predR = modelR.predict(X_val)\n",
    "#print(model1.score(X_val, y_val))\n",
    "print('Mean Absolute Error:', metrics.mean_absolute_error(y_val, y_predR))\n",
    "print('Root Mean Squared Error:', np.sqrt(metrics.mean_squared_error(y_val, y_predR)))\n",
    "\n",
    "y_predL[y_predL < 0] = 0\n",
    "\n",
    "print(metrics.mean_absolute_error(y_val, y_predL/1.03))\n",
    "\n",
    "print('======')\n",
    "\n",
    "\n",
    "print(metrics.mean_absolute_error(y_val, 0.5*(y_predL + y_predR)/1.03))"
   ]
  },
  {
   "cell_type": "code",
   "execution_count": null,
   "metadata": {
    "collapsed": false
   },
   "outputs": [],
   "source": [
    "X_train, X_val, y_train, y_val = train_test_split(X, y, random_state=13)\n",
    "transformerKERAS = RobustScaler().fit(X_train)\n",
    "\n",
    "X_val = transformerKERAS.transform(X_val)\n",
    "X_train = transformerKERAS.transform(X_train)"
   ]
  },
  {
   "cell_type": "code",
   "execution_count": null,
   "metadata": {
    "collapsed": false
   },
   "outputs": [],
   "source": [
    "reduce_lr = ReduceLROnPlateau(monitor='val_loss', factor=0.2, patience=20, min_lr=0.000001, verbose=1, mode='min')\n",
    "\n",
    "def create_model():\n",
    "\n",
    "    model = Sequential()\n",
    "    model.add(Dense(units=500, activation='relu', input_dim=19))\n",
    "    model.add(Dense(units=2000, activation='relu'))\n",
    "    model.add(Dense(units=1500, activation='relu'))\n",
    "    model.add(Dense(units=1782, activation='swish'))\n",
    "\n",
    "    model.compile(loss='mae', optimizer='adam')\n",
    "\n",
    "    return model\n",
    "\n",
    "model = create_model()\n",
    "model.fit(X_train, y_train, epochs=5000, batch_size=2000, validation_data=(X_val, y_val),callbacks=[reduce_lr])\n",
    "\n",
    "y_pred1 = model.predict(X_val)\n",
    "#print(model1.score(X_val, y_val))\n",
    "\n",
    "y_pred1[y_pred1 < 0] = 0\n",
    "\n",
    "print('Mean Absolute Error:', metrics.mean_absolute_error(y_val, y_pred1))\n",
    "print('Root Mean Squared Error:', np.sqrt(metrics.mean_squared_error(y_val, y_pred1)))"
   ]
  },
  {
   "cell_type": "code",
   "execution_count": null,
   "metadata": {
    "collapsed": false
   },
   "outputs": [],
   "source": [
    "df_test = pd.read_csv(\n",
    "    '../input/test.csv',\n",
    "    dtype={\n",
    "        'store_nbr': 'category',\n",
    "        'family': 'category',\n",
    "        'onpromotion': 'uint32',\n",
    "    },\n",
    "    parse_dates=['date'],\n",
    "    infer_datetime_format=True,\n",
    ")\n",
    "df_test['date'] = df_test.date.dt.to_period('D')\n",
    "df_test = df_test.set_index(['store_nbr', 'family', 'date']).sort_index()\n",
    "\n",
    "X_test = dp.out_of_sample(steps=16)\n",
    "X_test.index.name = 'date'\n",
    "X_test['NewYear'] = (X_test.index.dayofyear == 1)\n",
    "\n",
    "X_test_copy = copy.deepcopy(X_test)\n",
    "\n",
    "X_test = transformerL.transform(X_test)\n",
    "\n",
    "predictionL = modelL.predict(X_test)\n",
    "predictionL[predictionL < 0] = 0\n",
    "predictionL = predictionL/1.03\n",
    "\n",
    "predictionR = modelR.predict(X_test)\n",
    "predictionR[predictionR < 0] = 0\n",
    "predictionR = predictionR/1.03\n",
    "\n",
    "X_test = copy.deepcopy(X_test_copy)\n",
    "\n",
    "X_test = transformerKERAS.transform(X_test)\n",
    "predictionKERAS = model.predict(X_test)\n",
    "predictionKERAS[predictionKERAS < 0] = 0\n",
    "predictionKERAS = predictionKERAS/1.03\n",
    "\n",
    "prediction = 0.8*(predictionL*0.7 + predictionR*0.3) + 0.2*predictionKERAS\n",
    "\n",
    "y_submit = pd.DataFrame(prediction, index=X_test_copy.index, columns=y.columns)\n",
    "\n",
    "y_submit = y_submit.stack(['store_nbr', 'family'])\n",
    "\n",
    "y_submit = y_submit.join(df_test.id).reindex(columns=['id', 'sales'])\n",
    "\n",
    "y_submit.to_csv('submission.csv', index=False)"
   ]
  },
  {
   "cell_type": "code",
   "execution_count": null,
   "metadata": {
    "collapsed": false
   },
   "outputs": [],
   "source": [
    "y_submit"
   ]
  },
  {
   "cell_type": "code",
   "execution_count": null,
   "metadata": {
    "collapsed": false
   },
   "outputs": [],
   "source": []
  }
 ],
 "metadata": {
  "kernelspec": {
   "display_name": "darts",
   "language": "python",
   "name": "python3"
  },
  "language_info": {
   "codemirror_mode": {
    "name": "ipython",
    "version": 2
   },
   "file_extension": ".py",
   "mimetype": "text/x-python",
   "name": "python",
   "nbconvert_exporter": "python",
   "pygments_lexer": "ipython2",
   "version": "3.8.1 (default, Mar  2 2020, 13:06:26) [MSC v.1916 64 bit (AMD64)]"
  },
  "vscode": {
   "interpreter": {
    "hash": "5e4eb80f0a2947b2b4d080aa13c6d15fa0bc013de0be3eb24296c75a14756372"
   }
  }
 },
 "nbformat": 4,
 "nbformat_minor": 0
}
