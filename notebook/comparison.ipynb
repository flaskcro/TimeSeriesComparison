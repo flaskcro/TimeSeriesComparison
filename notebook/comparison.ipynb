{
 "cells": [
  {
   "cell_type": "code",
   "execution_count": 2,
   "metadata": {},
   "outputs": [],
   "source": [
    "import pandas as pd\n",
    "import seaborn as sns\n",
    "import matplotlib.pyplot as plt\n",
    "import warnings\n",
    "warnings.filterwarnings('ignore')"
   ]
  },
  {
   "cell_type": "code",
   "execution_count": 2,
   "metadata": {},
   "outputs": [
    {
     "data": {
      "text/plain": [
       "Unnamed: 0     49.500000\n",
       "Store         585.390000\n",
       "rmspe_x         0.287288\n",
       "smape_x        25.893528\n",
       "rmspe_y         0.075213\n",
       "smape_y         6.151082\n",
       "dtype: float64"
      ]
     },
     "execution_count": 2,
     "metadata": {},
     "output_type": "execute_result"
    }
   ],
   "source": [
    "arima_result = pd.read_csv('../output/arima_result.csv')\n",
    "arima_result.mean()"
   ]
  },
  {
   "cell_type": "code",
   "execution_count": 3,
   "metadata": {},
   "outputs": [
    {
     "data": {
      "text/plain": [
       "Unnamed: 0     49.500000\n",
       "Store         585.390000\n",
       "rmspe_x         0.204381\n",
       "smape_x        17.039615\n",
       "rmspe_y         0.062313\n",
       "smape_y         4.945281\n",
       "dtype: float64"
      ]
     },
     "execution_count": 3,
     "metadata": {},
     "output_type": "execute_result"
    }
   ],
   "source": [
    "prophet_result = pd.read_csv('../output/prophet_result.csv')\n",
    "prophet_result.mean()"
   ]
  },
  {
   "cell_type": "code",
   "execution_count": 29,
   "metadata": {},
   "outputs": [
    {
     "data": {
      "text/plain": [
       "Unnamed: 0     49.500000\n",
       "Store         585.390000\n",
       "rmspe_x         0.204391\n",
       "smape_x        18.039293\n",
       "rmspe_y         0.091794\n",
       "smape_y         8.272540\n",
       "rmspe_x.1       0.116671\n",
       "smape_x.1       9.436731\n",
       "rmspe_y.1       0.203133\n",
       "smape_y.1      16.553350\n",
       "dtype: float64"
      ]
     },
     "execution_count": 29,
     "metadata": {},
     "output_type": "execute_result"
    }
   ],
   "source": [
    "rnn_result = pd.read_csv('../output/rnn_result.csv')\n",
    "rnn_result.mean()"
   ]
  },
  {
   "cell_type": "code",
   "execution_count": 30,
   "metadata": {},
   "outputs": [
    {
     "data": {
      "text/html": [
       "<div>\n",
       "<style scoped>\n",
       "    .dataframe tbody tr th:only-of-type {\n",
       "        vertical-align: middle;\n",
       "    }\n",
       "\n",
       "    .dataframe tbody tr th {\n",
       "        vertical-align: top;\n",
       "    }\n",
       "\n",
       "    .dataframe thead th {\n",
       "        text-align: right;\n",
       "    }\n",
       "</style>\n",
       "<table border=\"1\" class=\"dataframe\">\n",
       "  <thead>\n",
       "    <tr style=\"text-align: right;\">\n",
       "      <th></th>\n",
       "      <th>Unnamed: 0</th>\n",
       "      <th>Store</th>\n",
       "      <th>rmspe_x</th>\n",
       "      <th>smape_x</th>\n",
       "      <th>rmspe_y</th>\n",
       "      <th>smape_y</th>\n",
       "      <th>rmspe_x.1</th>\n",
       "      <th>smape_x.1</th>\n",
       "      <th>rmspe_y.1</th>\n",
       "      <th>smape_y.1</th>\n",
       "    </tr>\n",
       "    <tr>\n",
       "      <th>StoreType</th>\n",
       "      <th></th>\n",
       "      <th></th>\n",
       "      <th></th>\n",
       "      <th></th>\n",
       "      <th></th>\n",
       "      <th></th>\n",
       "      <th></th>\n",
       "      <th></th>\n",
       "      <th></th>\n",
       "      <th></th>\n",
       "    </tr>\n",
       "  </thead>\n",
       "  <tbody>\n",
       "    <tr>\n",
       "      <th>a</th>\n",
       "      <td>14.5</td>\n",
       "      <td>617.333333</td>\n",
       "      <td>0.210304</td>\n",
       "      <td>18.011788</td>\n",
       "      <td>0.085123</td>\n",
       "      <td>7.603723</td>\n",
       "      <td>0.101497</td>\n",
       "      <td>8.250443</td>\n",
       "      <td>0.186412</td>\n",
       "      <td>14.957513</td>\n",
       "    </tr>\n",
       "    <tr>\n",
       "      <th>b</th>\n",
       "      <td>34.5</td>\n",
       "      <td>528.600000</td>\n",
       "      <td>0.190981</td>\n",
       "      <td>14.303545</td>\n",
       "      <td>0.144847</td>\n",
       "      <td>13.290456</td>\n",
       "      <td>0.275378</td>\n",
       "      <td>21.288224</td>\n",
       "      <td>0.340942</td>\n",
       "      <td>25.112130</td>\n",
       "    </tr>\n",
       "    <tr>\n",
       "      <th>c</th>\n",
       "      <td>54.5</td>\n",
       "      <td>605.133333</td>\n",
       "      <td>0.208759</td>\n",
       "      <td>18.768218</td>\n",
       "      <td>0.092024</td>\n",
       "      <td>8.124409</td>\n",
       "      <td>0.107316</td>\n",
       "      <td>8.869393</td>\n",
       "      <td>0.190505</td>\n",
       "      <td>16.302750</td>\n",
       "    </tr>\n",
       "    <tr>\n",
       "      <th>d</th>\n",
       "      <td>84.5</td>\n",
       "      <td>552.633333</td>\n",
       "      <td>0.198581</td>\n",
       "      <td>18.583121</td>\n",
       "      <td>0.080552</td>\n",
       "      <td>7.416851</td>\n",
       "      <td>0.088299</td>\n",
       "      <td>7.239860</td>\n",
       "      <td>0.186544</td>\n",
       "      <td>15.546860</td>\n",
       "    </tr>\n",
       "  </tbody>\n",
       "</table>\n",
       "</div>"
      ],
      "text/plain": [
       "           Unnamed: 0       Store   rmspe_x    smape_x   rmspe_y    smape_y  \\\n",
       "StoreType                                                                     \n",
       "a                14.5  617.333333  0.210304  18.011788  0.085123   7.603723   \n",
       "b                34.5  528.600000  0.190981  14.303545  0.144847  13.290456   \n",
       "c                54.5  605.133333  0.208759  18.768218  0.092024   8.124409   \n",
       "d                84.5  552.633333  0.198581  18.583121  0.080552   7.416851   \n",
       "\n",
       "           rmspe_x.1  smape_x.1  rmspe_y.1  smape_y.1  \n",
       "StoreType                                              \n",
       "a           0.101497   8.250443   0.186412  14.957513  \n",
       "b           0.275378  21.288224   0.340942  25.112130  \n",
       "c           0.107316   8.869393   0.190505  16.302750  \n",
       "d           0.088299   7.239860   0.186544  15.546860  "
      ]
     },
     "execution_count": 30,
     "metadata": {},
     "output_type": "execute_result"
    }
   ],
   "source": [
    "rnn_result.groupby('StoreType').mean()"
   ]
  },
  {
   "cell_type": "code",
   "execution_count": 32,
   "metadata": {},
   "outputs": [
    {
     "data": {
      "text/plain": [
       "Unnamed: 0     49.500000\n",
       "Store         585.390000\n",
       "rmspe_x         0.204391\n",
       "smape_x        18.039293\n",
       "rmspe_y         0.091794\n",
       "smape_y         8.272540\n",
       "rmspe_x.1       0.116671\n",
       "smape_x.1       9.436731\n",
       "rmspe_y.1       0.203133\n",
       "smape_y.1      16.553350\n",
       "dtype: float64"
      ]
     },
     "execution_count": 32,
     "metadata": {},
     "output_type": "execute_result"
    }
   ],
   "source": [
    "rnn_result.mean()"
   ]
  },
  {
   "cell_type": "code",
   "execution_count": 31,
   "metadata": {},
   "outputs": [
    {
     "data": {
      "text/html": [
       "<div>\n",
       "<style scoped>\n",
       "    .dataframe tbody tr th:only-of-type {\n",
       "        vertical-align: middle;\n",
       "    }\n",
       "\n",
       "    .dataframe tbody tr th {\n",
       "        vertical-align: top;\n",
       "    }\n",
       "\n",
       "    .dataframe thead th {\n",
       "        text-align: right;\n",
       "    }\n",
       "</style>\n",
       "<table border=\"1\" class=\"dataframe\">\n",
       "  <thead>\n",
       "    <tr style=\"text-align: right;\">\n",
       "      <th></th>\n",
       "      <th>Unnamed: 0</th>\n",
       "      <th>Store</th>\n",
       "      <th>rmspe_x</th>\n",
       "      <th>smape_x</th>\n",
       "      <th>rmspe_y</th>\n",
       "      <th>smape_y</th>\n",
       "    </tr>\n",
       "    <tr>\n",
       "      <th>StoreType</th>\n",
       "      <th></th>\n",
       "      <th></th>\n",
       "      <th></th>\n",
       "      <th></th>\n",
       "      <th></th>\n",
       "      <th></th>\n",
       "    </tr>\n",
       "  </thead>\n",
       "  <tbody>\n",
       "    <tr>\n",
       "      <th>a</th>\n",
       "      <td>14.5</td>\n",
       "      <td>617.333333</td>\n",
       "      <td>0.072249</td>\n",
       "      <td>6.039484</td>\n",
       "      <td>0.082313</td>\n",
       "      <td>6.875778</td>\n",
       "    </tr>\n",
       "    <tr>\n",
       "      <th>b</th>\n",
       "      <td>34.5</td>\n",
       "      <td>528.600000</td>\n",
       "      <td>0.140178</td>\n",
       "      <td>11.943553</td>\n",
       "      <td>0.196384</td>\n",
       "      <td>14.794481</td>\n",
       "    </tr>\n",
       "    <tr>\n",
       "      <th>c</th>\n",
       "      <td>54.5</td>\n",
       "      <td>605.133333</td>\n",
       "      <td>0.068919</td>\n",
       "      <td>5.822658</td>\n",
       "      <td>0.074484</td>\n",
       "      <td>6.128657</td>\n",
       "    </tr>\n",
       "    <tr>\n",
       "      <th>d</th>\n",
       "      <td>84.5</td>\n",
       "      <td>552.633333</td>\n",
       "      <td>0.065591</td>\n",
       "      <td>5.686814</td>\n",
       "      <td>0.066595</td>\n",
       "      <td>5.523264</td>\n",
       "    </tr>\n",
       "  </tbody>\n",
       "</table>\n",
       "</div>"
      ],
      "text/plain": [
       "           Unnamed: 0       Store   rmspe_x    smape_x   rmspe_y    smape_y\n",
       "StoreType                                                                  \n",
       "a                14.5  617.333333  0.072249   6.039484  0.082313   6.875778\n",
       "b                34.5  528.600000  0.140178  11.943553  0.196384  14.794481\n",
       "c                54.5  605.133333  0.068919   5.822658  0.074484   6.128657\n",
       "d                84.5  552.633333  0.065591   5.686814  0.066595   5.523264"
      ]
     },
     "execution_count": 31,
     "metadata": {},
     "output_type": "execute_result"
    }
   ],
   "source": [
    "rnn_hresult = pd.read_csv('../output/rnn_hyper_result.csv')\n",
    "rnn_hresult.groupby('StoreType').mean()"
   ]
  },
  {
   "cell_type": "code",
   "execution_count": 33,
   "metadata": {},
   "outputs": [
    {
     "data": {
      "text/plain": [
       "Unnamed: 0     49.500000\n",
       "Store         585.390000\n",
       "rmspe_x         0.076045\n",
       "smape_x         6.459042\n",
       "rmspe_y         0.086656\n",
       "smape_y         7.037758\n",
       "dtype: float64"
      ]
     },
     "execution_count": 33,
     "metadata": {},
     "output_type": "execute_result"
    }
   ],
   "source": [
    "rnn_hresult.mean()"
   ]
  },
  {
   "cell_type": "code",
   "execution_count": 35,
   "metadata": {},
   "outputs": [
    {
     "data": {
      "text/plain": [
       "Unnamed: 0     49.500000\n",
       "Store         585.390000\n",
       "rmspe_x         0.218291\n",
       "smape_x        18.452591\n",
       "rmspe_y         0.207502\n",
       "smape_y        15.503311\n",
       "dtype: float64"
      ]
     },
     "execution_count": 35,
     "metadata": {},
     "output_type": "execute_result"
    }
   ],
   "source": [
    "nbeats_result = pd.read_csv('../output/nbeats_results.csv')\n",
    "nbeats_result.mean()"
   ]
  },
  {
   "cell_type": "code",
   "execution_count": 36,
   "metadata": {},
   "outputs": [
    {
     "data": {
      "text/html": [
       "<div>\n",
       "<style scoped>\n",
       "    .dataframe tbody tr th:only-of-type {\n",
       "        vertical-align: middle;\n",
       "    }\n",
       "\n",
       "    .dataframe tbody tr th {\n",
       "        vertical-align: top;\n",
       "    }\n",
       "\n",
       "    .dataframe thead th {\n",
       "        text-align: right;\n",
       "    }\n",
       "</style>\n",
       "<table border=\"1\" class=\"dataframe\">\n",
       "  <thead>\n",
       "    <tr style=\"text-align: right;\">\n",
       "      <th></th>\n",
       "      <th>Unnamed: 0</th>\n",
       "      <th>Store</th>\n",
       "      <th>rmspe_x</th>\n",
       "      <th>smape_x</th>\n",
       "      <th>rmspe_y</th>\n",
       "      <th>smape_y</th>\n",
       "    </tr>\n",
       "    <tr>\n",
       "      <th>StoreType</th>\n",
       "      <th></th>\n",
       "      <th></th>\n",
       "      <th></th>\n",
       "      <th></th>\n",
       "      <th></th>\n",
       "      <th></th>\n",
       "    </tr>\n",
       "  </thead>\n",
       "  <tbody>\n",
       "    <tr>\n",
       "      <th>a</th>\n",
       "      <td>14.5</td>\n",
       "      <td>617.333333</td>\n",
       "      <td>0.203259</td>\n",
       "      <td>16.345561</td>\n",
       "      <td>0.211390</td>\n",
       "      <td>15.545961</td>\n",
       "    </tr>\n",
       "    <tr>\n",
       "      <th>b</th>\n",
       "      <td>34.5</td>\n",
       "      <td>528.600000</td>\n",
       "      <td>0.262323</td>\n",
       "      <td>20.636117</td>\n",
       "      <td>0.215541</td>\n",
       "      <td>15.076560</td>\n",
       "    </tr>\n",
       "    <tr>\n",
       "      <th>c</th>\n",
       "      <td>54.5</td>\n",
       "      <td>605.133333</td>\n",
       "      <td>0.235767</td>\n",
       "      <td>21.126114</td>\n",
       "      <td>0.207119</td>\n",
       "      <td>16.029408</td>\n",
       "    </tr>\n",
       "    <tr>\n",
       "      <th>d</th>\n",
       "      <td>84.5</td>\n",
       "      <td>552.633333</td>\n",
       "      <td>0.201172</td>\n",
       "      <td>17.158255</td>\n",
       "      <td>0.201319</td>\n",
       "      <td>15.076814</td>\n",
       "    </tr>\n",
       "  </tbody>\n",
       "</table>\n",
       "</div>"
      ],
      "text/plain": [
       "           Unnamed: 0       Store   rmspe_x    smape_x   rmspe_y    smape_y\n",
       "StoreType                                                                  \n",
       "a                14.5  617.333333  0.203259  16.345561  0.211390  15.545961\n",
       "b                34.5  528.600000  0.262323  20.636117  0.215541  15.076560\n",
       "c                54.5  605.133333  0.235767  21.126114  0.207119  16.029408\n",
       "d                84.5  552.633333  0.201172  17.158255  0.201319  15.076814"
      ]
     },
     "execution_count": 36,
     "metadata": {},
     "output_type": "execute_result"
    }
   ],
   "source": [
    "nbeats_result.groupby('StoreType').mean()"
   ]
  },
  {
   "cell_type": "code",
   "execution_count": 37,
   "metadata": {},
   "outputs": [
    {
     "data": {
      "text/plain": [
       "Unnamed: 0     49.500000\n",
       "Store         585.390000\n",
       "rmspe           0.161478\n",
       "smape          13.294597\n",
       "dtype: float64"
      ]
     },
     "execution_count": 37,
     "metadata": {},
     "output_type": "execute_result"
    }
   ],
   "source": [
    "nbeats_hresult = pd.read_csv('../output/nbeats_hyper_result.csv')\n",
    "nbeats_hresult.mean()"
   ]
  },
  {
   "cell_type": "code",
   "execution_count": 38,
   "metadata": {},
   "outputs": [
    {
     "data": {
      "text/html": [
       "<div>\n",
       "<style scoped>\n",
       "    .dataframe tbody tr th:only-of-type {\n",
       "        vertical-align: middle;\n",
       "    }\n",
       "\n",
       "    .dataframe tbody tr th {\n",
       "        vertical-align: top;\n",
       "    }\n",
       "\n",
       "    .dataframe thead th {\n",
       "        text-align: right;\n",
       "    }\n",
       "</style>\n",
       "<table border=\"1\" class=\"dataframe\">\n",
       "  <thead>\n",
       "    <tr style=\"text-align: right;\">\n",
       "      <th></th>\n",
       "      <th>Unnamed: 0</th>\n",
       "      <th>Store</th>\n",
       "      <th>rmspe</th>\n",
       "      <th>smape</th>\n",
       "    </tr>\n",
       "    <tr>\n",
       "      <th>StoreType</th>\n",
       "      <th></th>\n",
       "      <th></th>\n",
       "      <th></th>\n",
       "      <th></th>\n",
       "    </tr>\n",
       "  </thead>\n",
       "  <tbody>\n",
       "    <tr>\n",
       "      <th>a</th>\n",
       "      <td>14.5</td>\n",
       "      <td>617.333333</td>\n",
       "      <td>0.159385</td>\n",
       "      <td>12.992552</td>\n",
       "    </tr>\n",
       "    <tr>\n",
       "      <th>b</th>\n",
       "      <td>34.5</td>\n",
       "      <td>528.600000</td>\n",
       "      <td>0.147126</td>\n",
       "      <td>10.909225</td>\n",
       "    </tr>\n",
       "    <tr>\n",
       "      <th>c</th>\n",
       "      <td>54.5</td>\n",
       "      <td>605.133333</td>\n",
       "      <td>0.172356</td>\n",
       "      <td>14.461083</td>\n",
       "    </tr>\n",
       "    <tr>\n",
       "      <th>d</th>\n",
       "      <td>84.5</td>\n",
       "      <td>552.633333</td>\n",
       "      <td>0.157478</td>\n",
       "      <td>13.225281</td>\n",
       "    </tr>\n",
       "  </tbody>\n",
       "</table>\n",
       "</div>"
      ],
      "text/plain": [
       "           Unnamed: 0       Store     rmspe      smape\n",
       "StoreType                                             \n",
       "a                14.5  617.333333  0.159385  12.992552\n",
       "b                34.5  528.600000  0.147126  10.909225\n",
       "c                54.5  605.133333  0.172356  14.461083\n",
       "d                84.5  552.633333  0.157478  13.225281"
      ]
     },
     "execution_count": 38,
     "metadata": {},
     "output_type": "execute_result"
    }
   ],
   "source": [
    "nbeats_hresult.groupby('StoreType').mean()"
   ]
  },
  {
   "cell_type": "code",
   "execution_count": 40,
   "metadata": {},
   "outputs": [
    {
     "data": {
      "text/plain": [
       "Unnamed: 0     49.500000\n",
       "Store         585.390000\n",
       "rmspe           0.113486\n",
       "smape           8.605681\n",
       "dtype: float64"
      ]
     },
     "execution_count": 40,
     "metadata": {},
     "output_type": "execute_result"
    }
   ],
   "source": [
    "tft_result = pd.read_csv('../output/tft_result.csv')\n",
    "tft_result.mean()"
   ]
  },
  {
   "cell_type": "code",
   "execution_count": 41,
   "metadata": {},
   "outputs": [
    {
     "data": {
      "text/html": [
       "<div>\n",
       "<style scoped>\n",
       "    .dataframe tbody tr th:only-of-type {\n",
       "        vertical-align: middle;\n",
       "    }\n",
       "\n",
       "    .dataframe tbody tr th {\n",
       "        vertical-align: top;\n",
       "    }\n",
       "\n",
       "    .dataframe thead th {\n",
       "        text-align: right;\n",
       "    }\n",
       "</style>\n",
       "<table border=\"1\" class=\"dataframe\">\n",
       "  <thead>\n",
       "    <tr style=\"text-align: right;\">\n",
       "      <th></th>\n",
       "      <th>Unnamed: 0</th>\n",
       "      <th>Store</th>\n",
       "      <th>rmspe</th>\n",
       "      <th>smape</th>\n",
       "    </tr>\n",
       "    <tr>\n",
       "      <th>StoreType</th>\n",
       "      <th></th>\n",
       "      <th></th>\n",
       "      <th></th>\n",
       "      <th></th>\n",
       "    </tr>\n",
       "  </thead>\n",
       "  <tbody>\n",
       "    <tr>\n",
       "      <th>a</th>\n",
       "      <td>64.500000</td>\n",
       "      <td>617.333333</td>\n",
       "      <td>0.101963</td>\n",
       "      <td>7.931981</td>\n",
       "    </tr>\n",
       "    <tr>\n",
       "      <th>b</th>\n",
       "      <td>84.500000</td>\n",
       "      <td>528.600000</td>\n",
       "      <td>0.189533</td>\n",
       "      <td>13.333993</td>\n",
       "    </tr>\n",
       "    <tr>\n",
       "      <th>c</th>\n",
       "      <td>37.833333</td>\n",
       "      <td>605.133333</td>\n",
       "      <td>0.117862</td>\n",
       "      <td>8.723430</td>\n",
       "    </tr>\n",
       "    <tr>\n",
       "      <th>d</th>\n",
       "      <td>34.500000</td>\n",
       "      <td>552.633333</td>\n",
       "      <td>0.095285</td>\n",
       "      <td>7.585528</td>\n",
       "    </tr>\n",
       "  </tbody>\n",
       "</table>\n",
       "</div>"
      ],
      "text/plain": [
       "           Unnamed: 0       Store     rmspe      smape\n",
       "StoreType                                             \n",
       "a           64.500000  617.333333  0.101963   7.931981\n",
       "b           84.500000  528.600000  0.189533  13.333993\n",
       "c           37.833333  605.133333  0.117862   8.723430\n",
       "d           34.500000  552.633333  0.095285   7.585528"
      ]
     },
     "execution_count": 41,
     "metadata": {},
     "output_type": "execute_result"
    }
   ],
   "source": [
    "tft_result.groupby('StoreType').mean()"
   ]
  },
  {
   "cell_type": "code",
   "execution_count": 3,
   "metadata": {},
   "outputs": [
    {
     "data": {
      "text/plain": [
       "Unnamed: 0     49.500000\n",
       "Store         585.390000\n",
       "rmspe           0.113486\n",
       "smape           8.605681\n",
       "dtype: float64"
      ]
     },
     "execution_count": 3,
     "metadata": {},
     "output_type": "execute_result"
    }
   ],
   "source": [
    "tft_result = pd.read_csv('../output/tft_result.csv')\n",
    "tft_result.mean()"
   ]
  },
  {
   "cell_type": "code",
   "execution_count": 43,
   "metadata": {},
   "outputs": [
    {
     "data": {
      "text/plain": [
       "Store    585.390000\n",
       "RMSPE      0.107697\n",
       "SMAPE      8.418612\n",
       "dtype: float64"
      ]
     },
     "execution_count": 43,
     "metadata": {},
     "output_type": "execute_result"
    }
   ],
   "source": [
    "tft_hresult = pd.read_csv('../output/tft_hyper_result.csv')\n",
    "tft_hresult.mean()"
   ]
  },
  {
   "cell_type": "code",
   "execution_count": 44,
   "metadata": {},
   "outputs": [
    {
     "data": {
      "text/html": [
       "<div>\n",
       "<style scoped>\n",
       "    .dataframe tbody tr th:only-of-type {\n",
       "        vertical-align: middle;\n",
       "    }\n",
       "\n",
       "    .dataframe tbody tr th {\n",
       "        vertical-align: top;\n",
       "    }\n",
       "\n",
       "    .dataframe thead th {\n",
       "        text-align: right;\n",
       "    }\n",
       "</style>\n",
       "<table border=\"1\" class=\"dataframe\">\n",
       "  <thead>\n",
       "    <tr style=\"text-align: right;\">\n",
       "      <th></th>\n",
       "      <th>Store</th>\n",
       "      <th>RMSPE</th>\n",
       "      <th>SMAPE</th>\n",
       "    </tr>\n",
       "    <tr>\n",
       "      <th>StoreType</th>\n",
       "      <th></th>\n",
       "      <th></th>\n",
       "      <th></th>\n",
       "    </tr>\n",
       "  </thead>\n",
       "  <tbody>\n",
       "    <tr>\n",
       "      <th>a</th>\n",
       "      <td>567.566667</td>\n",
       "      <td>0.117280</td>\n",
       "      <td>8.628448</td>\n",
       "    </tr>\n",
       "    <tr>\n",
       "      <th>b</th>\n",
       "      <td>542.700000</td>\n",
       "      <td>0.098375</td>\n",
       "      <td>8.100029</td>\n",
       "    </tr>\n",
       "    <tr>\n",
       "      <th>c</th>\n",
       "      <td>615.800000</td>\n",
       "      <td>0.098450</td>\n",
       "      <td>7.949165</td>\n",
       "    </tr>\n",
       "    <tr>\n",
       "      <th>d</th>\n",
       "      <td>587.033333</td>\n",
       "      <td>0.110469</td>\n",
       "      <td>8.784416</td>\n",
       "    </tr>\n",
       "  </tbody>\n",
       "</table>\n",
       "</div>"
      ],
      "text/plain": [
       "                Store     RMSPE     SMAPE\n",
       "StoreType                                \n",
       "a          567.566667  0.117280  8.628448\n",
       "b          542.700000  0.098375  8.100029\n",
       "c          615.800000  0.098450  7.949165\n",
       "d          587.033333  0.110469  8.784416"
      ]
     },
     "execution_count": 44,
     "metadata": {},
     "output_type": "execute_result"
    }
   ],
   "source": [
    "tft_hresult.groupby('StoreType').mean()"
   ]
  },
  {
   "cell_type": "code",
   "execution_count": null,
   "metadata": {},
   "outputs": [],
   "source": []
  }
 ],
 "metadata": {
  "kernelspec": {
   "display_name": "Python 3 (ipykernel)",
   "language": "python",
   "name": "python3"
  },
  "language_info": {
   "codemirror_mode": {
    "name": "ipython",
    "version": 3
   },
   "file_extension": ".py",
   "mimetype": "text/x-python",
   "name": "python",
   "nbconvert_exporter": "python",
   "pygments_lexer": "ipython3",
   "version": "3.8.1"
  },
  "vscode": {
   "interpreter": {
    "hash": "5e4eb80f0a2947b2b4d080aa13c6d15fa0bc013de0be3eb24296c75a14756372"
   }
  }
 },
 "nbformat": 4,
 "nbformat_minor": 2
}
